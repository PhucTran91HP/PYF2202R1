{
 "cells": [
  {
   "cell_type": "code",
   "execution_count": 2,
   "metadata": {},
   "outputs": [
    {
     "name": "stdout",
     "output_type": "stream",
     "text": [
      "Nhập số ngày bạn muốn in ra (Từ 1 đến 7) :5\n",
      "Friday\n"
     ]
    }
   ],
   "source": [
    "a = int(input(\"Nhập số ngày bạn muốn in ra (Từ 1 đến 7) :\"))\n",
    "if a == 1:\n",
    "    print(\"Monday\")\n",
    "elif a == 2:\n",
    "    print(\"Tuesday\")\n",
    "elif a == 3:\n",
    "    print(\"Wednesday\")\n",
    "elif a == 4:\n",
    "    print(\"Thursday\")\n",
    "elif a == 5:\n",
    "    print(\"Friday\")\n",
    "elif a == 6:\n",
    "    print(\"Saturday\")\n",
    "elif a == 7:\n",
    "    print(\"Sunday\")\n",
    "else:\n",
    "    print(\"Số ngày bạn nhập bị sai.\")"
   ]
  }
 ],
 "metadata": {
  "kernelspec": {
   "display_name": "Python 3",
   "language": "python",
   "name": "python3"
  },
  "language_info": {
   "codemirror_mode": {
    "name": "ipython",
    "version": 3
   },
   "file_extension": ".py",
   "mimetype": "text/x-python",
   "name": "python",
   "nbconvert_exporter": "python",
   "pygments_lexer": "ipython3",
   "version": "3.7.1"
  }
 },
 "nbformat": 4,
 "nbformat_minor": 2
}
