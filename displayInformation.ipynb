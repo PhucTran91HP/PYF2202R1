{
 "cells": [
  {
   "cell_type": "code",
   "execution_count": null,
   "metadata": {},
   "outputs": [],
   "source": [
    "print('ĐỖ HỮU CẢNH')\n",
    "print('Sinh năm 1991')\n",
    "print('Quê quán : Hải Phòng')\n",
    "print('Nghề nghiệp : Kỹ sư')\n",
    "print('Nơi làm việc : Hà Nội')"
   ]
  }
 ],
 "metadata": {
  "kernelspec": {
   "display_name": "Python 3",
   "language": "python",
   "name": "python3"
  },
  "language_info": {
   "codemirror_mode": {
    "name": "ipython",
    "version": 3
   },
   "file_extension": ".py",
   "mimetype": "text/x-python",
   "name": "python",
   "nbconvert_exporter": "python",
   "pygments_lexer": "ipython3",
   "version": "3.7.1"
  }
 },
 "nbformat": 4,
 "nbformat_minor": 2
}
