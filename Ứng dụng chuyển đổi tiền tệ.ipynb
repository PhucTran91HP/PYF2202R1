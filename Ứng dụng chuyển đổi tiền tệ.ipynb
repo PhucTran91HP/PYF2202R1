{
 "cells": [
  {
   "cell_type": "code",
   "execution_count": 3,
   "metadata": {},
   "outputs": [
    {
     "name": "stdout",
     "output_type": "stream",
     "text": [
      "Nhập vào số USD cần đổi : 5\n",
      "Nhập vào tỷ giá USD/VNĐ: 23\n",
      "Số tiền của bạn là 115.0 VNĐ\n"
     ]
    }
   ],
   "source": [
    "a = input('Nhập vào số USD cần đổi : ')\n",
    "a = float(a)\n",
    "b = input('Nhập vào tỷ giá USD/VNĐ: ')\n",
    "b = float(b)\n",
    "\n",
    "c = a*b\n",
    "\n",
    "print('Số tiền của bạn là' ,c, 'VNĐ')"
   ]
  }
 ],
 "metadata": {
  "kernelspec": {
   "display_name": "Python 3",
   "language": "python",
   "name": "python3"
  },
  "language_info": {
   "codemirror_mode": {
    "name": "ipython",
    "version": 3
   },
   "file_extension": ".py",
   "mimetype": "text/x-python",
   "name": "python",
   "nbconvert_exporter": "python",
   "pygments_lexer": "ipython3",
   "version": "3.7.1"
  }
 },
 "nbformat": 4,
 "nbformat_minor": 2
}
