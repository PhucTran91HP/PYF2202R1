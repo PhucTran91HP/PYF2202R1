{
 "cells": [
  {
   "cell_type": "code",
   "execution_count": 2,
   "metadata": {},
   "outputs": [
    {
     "name": "stdout",
     "output_type": "stream",
     "text": [
      "Nhập vào số a: 9.5\n",
      "không phải số tự nhiên\n"
     ]
    }
   ],
   "source": [
    "a = input('Nhập vào số a: ')\n",
    "a = float(a)\n",
    "if a % 2 == 0:\n",
    "    print('a là số chẵn')\n",
    "elif a % 2 == 1:\n",
    "    print('a là số lẻ')\n",
    "else:\n",
    "    print('không phải số tự nhiên')"
   ]
  }
 ],
 "metadata": {
  "kernelspec": {
   "display_name": "Python 3",
   "language": "python",
   "name": "python3"
  },
  "language_info": {
   "codemirror_mode": {
    "name": "ipython",
    "version": 3
   },
   "file_extension": ".py",
   "mimetype": "text/x-python",
   "name": "python",
   "nbconvert_exporter": "python",
   "pygments_lexer": "ipython3",
   "version": "3.7.1"
  }
 },
 "nbformat": 4,
 "nbformat_minor": 2
}
