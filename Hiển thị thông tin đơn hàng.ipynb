{
 "cells": [
  {
   "cell_type": "code",
   "execution_count": 3,
   "metadata": {},
   "outputs": [
    {
     "name": "stdout",
     "output_type": "stream",
     "text": [
      "Nhập vào số tiền của bạn phải trả: 600\n",
      "Total:  550\n"
     ]
    }
   ],
   "source": [
    "a = int(input(\"Nhập vào số tiền của bạn phải trả: \"))\n",
    "if a >= 150:\n",
    "    print(\"Total: \", a - 50)\n",
    "elif a >= 100:\n",
    "    print(\"Total: \", a - 25)\n",
    "elif num >= 75:\n",
    "    print(\"Total: \", a - 15)\n",
    "else:\n",
    "    print(\"Total: \", a)"
   ]
  },
  {
   "cell_type": "code",
   "execution_count": null,
   "metadata": {},
   "outputs": [],
   "source": []
  }
 ],
 "metadata": {
  "kernelspec": {
   "display_name": "Python 3",
   "language": "python",
   "name": "python3"
  },
  "language_info": {
   "codemirror_mode": {
    "name": "ipython",
    "version": 3
   },
   "file_extension": ".py",
   "mimetype": "text/x-python",
   "name": "python",
   "nbconvert_exporter": "python",
   "pygments_lexer": "ipython3",
   "version": "3.7.1"
  }
 },
 "nbformat": 4,
 "nbformat_minor": 2
}
