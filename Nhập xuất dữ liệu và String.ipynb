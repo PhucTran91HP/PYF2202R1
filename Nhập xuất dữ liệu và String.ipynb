{
 "cells": [
  {
   "cell_type": "markdown",
   "metadata": {},
   "source": [
    "# Nhập xuất dữ liệu và String\n",
    "## Cách nhập xuất dữ liệu"
   ]
  },
  {
   "cell_type": "markdown",
   "metadata": {},
   "source": [
    "### Xuất dữ liệu ra màn hình\n",
    "Để in các nội dung mà chúng ta mong muốn ra màn hình, ta sử dụng lệnh print()"
   ]
  },
  {
   "cell_type": "code",
   "execution_count": 1,
   "metadata": {},
   "outputs": [
    {
     "name": "stdout",
     "output_type": "stream",
     "text": [
      "python is very easy\n"
     ]
    }
   ],
   "source": [
    "# Ví dụ: In ra nội dung \"python is very easy\"\n",
    "print(\"python is very easy\")\n"
   ]
  },
  {
   "cell_type": "markdown",
   "metadata": {},
   "source": [
    "### Các cách custom với lệnh print"
   ]
  },
  {
   "cell_type": "markdown",
   "metadata": {},
   "source": [
    "Để in một nội dung kèm theo giá trị của biến, ta có các cách sau:"
   ]
  },
  {
   "cell_type": "code",
   "execution_count": null,
   "metadata": {},
   "outputs": [],
   "source": [
    "food_1 = \"chocolate\"\n",
    "food_2 = \"sandwich\"\n",
    "\n",
    "# I love chocolate and i hate sandwich"
   ]
  },
  {
   "cell_type": "code",
   "execution_count": 2,
   "metadata": {},
   "outputs": [
    {
     "name": "stdout",
     "output_type": "stream",
     "text": [
      "I love chocolate and i hate sandwich\n"
     ]
    }
   ],
   "source": [
    "# In trực tiếp\n",
    "print(\"I love chocolate and i hate sandwich\")"
   ]
  },
  {
   "cell_type": "code",
   "execution_count": 6,
   "metadata": {},
   "outputs": [
    {
     "name": "stdout",
     "output_type": "stream",
     "text": [
      "I love chocolate i hate sandwich\n"
     ]
    }
   ],
   "source": [
    "# In bằng cách ghép các nội dung với nhau\n",
    "food_1 = \"chocolate\"\n",
    "food_2 = \"sandwich\"\n",
    "print(\"I love\", food_1, \"i hate\", food_2)"
   ]
  },
  {
   "cell_type": "code",
   "execution_count": 2,
   "metadata": {},
   "outputs": [
    {
     "name": "stdout",
     "output_type": "stream",
     "text": [
      "I love chocolate and I hate sandwich\n"
     ]
    }
   ],
   "source": [
    "# Sử dụng String Format\n",
    "food_1 = \"chocolate\"\n",
    "food_2 = \"sandwich\"\n",
    "print(f\"I love {food_1} and I hate {food_2}\")"
   ]
  },
  {
   "cell_type": "code",
   "execution_count": 9,
   "metadata": {},
   "outputs": [
    {
     "name": "stdout",
     "output_type": "stream",
     "text": [
      "I love chocolate and I hate sandwich\n"
     ]
    }
   ],
   "source": [
    "# Sử dụng nhiều lệnh print\n",
    "print(\"I love \", end=\"\")\n",
    "print(food_1, end=\"\")\n",
    "print(\" and I hate \", end=\"\")\n",
    "print(food_2)"
   ]
  },
  {
   "cell_type": "markdown",
   "metadata": {},
   "source": [
    "### Nhập dữ liệu\n",
    "Để nhập dữ liệu vào chương trình python, chúng ta sử dụng hàm input()"
   ]
  },
  {
   "cell_type": "code",
   "execution_count": 13,
   "metadata": {},
   "outputs": [
    {
     "name": "stdout",
     "output_type": "stream",
     "text": [
      "Input your name: Cảnh\n",
      "Cảnh\n"
     ]
    }
   ],
   "source": [
    "name = input(\"Input your name: \")\n",
    "print(name)"
   ]
  },
  {
   "cell_type": "markdown",
   "metadata": {},
   "source": [
    "#### Thực hành: Viết chương trình nhập vào chiều dài và chiều rộng của hình chữ nhật, sau đó in ra chu vi và diện tích của hình chữ nhật đó"
   ]
  },
  {
   "cell_type": "code",
   "execution_count": 14,
   "metadata": {},
   "outputs": [
    {
     "name": "stdout",
     "output_type": "stream",
     "text": [
      "Nhập chiều dài : 5\n",
      "Nhập chiều rộng: 3\n"
     ]
    }
   ],
   "source": [
    "# Nhập các kích thước của hình chữ nhật\n",
    "chieu_dai = input(\"Nhập chiều dài : \")\n",
    "chieu_rong = input(\"Nhập chiều rộng: \")"
   ]
  },
  {
   "cell_type": "code",
   "execution_count": 25,
   "metadata": {},
   "outputs": [
    {
     "name": "stdout",
     "output_type": "stream",
     "text": [
      "Nhập chiều dài : 5\n",
      "Nhập chiều rộng: 3\n",
      "Chu vi là 16 và diện tích là 15\n"
     ]
    }
   ],
   "source": [
    "# Tính toán chu vi, diện tích\n",
    "chieu_dai = int(input(\"Nhập chiều dài : \"))\n",
    "chieu_rong = int(input(\"Nhập chiều rộng: \"))\n",
    "chu_vi = (chieu_dai + chieu_rong) * 2\n",
    "dien_tich = chieu_dai * chieu_rong"
   ]
  },
  {
   "cell_type": "code",
   "execution_count": null,
   "metadata": {},
   "outputs": [],
   "source": [
    "# In kết quả ra màn hình bằng 3 cách\n",
    "print(\"Chu vi là\", chu_vi, \"và diện tích là\", dien_tich)"
   ]
  },
  {
   "cell_type": "markdown",
   "metadata": {},
   "source": [
    "#### Thực hành: Viết chương trình nhập vào số đo cạnh và mã màu của tam giác đều, sau đó sử dụng turtle để vẽ ra hình tam giác có số đo và màu tương ứng"
   ]
  },
  {
   "cell_type": "code",
   "execution_count": 43,
   "metadata": {},
   "outputs": [
    {
     "name": "stdout",
     "output_type": "stream",
     "text": [
      "Nhập chiều dài cạnh tam giác đều: 100\n",
      "Nhập mã màu: red\n"
     ]
    }
   ],
   "source": [
    "import turtle\n",
    "pen = turtle.Turtle()\n",
    "canh_tam_giac = int(input(\"Nhập chiều dài cạnh tam giác đều: \"))\n",
    "color = (input(\"Nhập mã màu: \"))\n",
    "pen.pensize(1)\n",
    "pen.fillcolor(color)\n",
    "pen.begin_fill()\n",
    "pen.circle(canh_tam_giac, steps = 3 )\n",
    "pen.end_fill()\n",
    "\n",
    "turtle.done()"
   ]
  },
  {
   "cell_type": "markdown",
   "metadata": {},
   "source": [
    "## Cú pháp import"
   ]
  },
  {
   "cell_type": "markdown",
   "metadata": {},
   "source": [
    "Để sử dụng một module từ bên ngoài, chúng ta sẽ sử dụng từ khóa import. Sau đây là ví dụ về một số cách import phổ biến."
   ]
  },
  {
   "cell_type": "markdown",
   "metadata": {},
   "source": [
    "### Random một giá trị ngẫu nhiên"
   ]
  },
  {
   "cell_type": "code",
   "execution_count": null,
   "metadata": {},
   "outputs": [],
   "source": []
  },
  {
   "cell_type": "markdown",
   "metadata": {},
   "source": [
    "### Thực hiện các phép toán số học"
   ]
  },
  {
   "cell_type": "code",
   "execution_count": 8,
   "metadata": {},
   "outputs": [],
   "source": [
    "# import toàn bộ module"
   ]
  },
  {
   "cell_type": "code",
   "execution_count": null,
   "metadata": {},
   "outputs": [],
   "source": [
    "# import một phần trong module"
   ]
  },
  {
   "cell_type": "markdown",
   "metadata": {},
   "source": [
    "## Xử lý String trong python"
   ]
  },
  {
   "cell_type": "markdown",
   "metadata": {},
   "source": [
    "### String là gì?\n",
    "String là một chuỗi gồm các ký tự Unicode"
   ]
  },
  {
   "cell_type": "markdown",
   "metadata": {},
   "source": [
    "### Khởi tạo một string"
   ]
  },
  {
   "cell_type": "code",
   "execution_count": null,
   "metadata": {},
   "outputs": [],
   "source": [
    "# one-line string\n",
    "course_name = \"Python Fundamental\""
   ]
  },
  {
   "cell_type": "code",
   "execution_count": 45,
   "metadata": {},
   "outputs": [],
   "source": [
    "# multi-line string\n",
    "test = \"\"\"\n",
    "Khái niệm đoạn văn ở trường phổ thông hiện nay được hiểu theo nhiều cách khác nhau:\n",
    "\n",
    "- Cách hiểu thứ nhất (đoạn ý): Đoạn văn được dùng với ý nghĩa để chỉ sự phân đoạn nội dung, phân đoạn ý của văn bản. Một văn bản bao gồm nhiều đoạn văn: Đoạn mở đầu văn bản, những đoạn khai triển văn bản, đoạn kết thúc văn bản. Mỗi đoạn phải có sự hoàn chỉnh nhất định nào đó về mặt ý, về mặt nội dung. Nhưng thế nào là một nội dung, một ý hoàn chỉnh thì không có tiêu chí để xác định rõ ràng. Một văn bản, tuỳ theo người đọc cảm nhận mà phân chia ra thành các đoạn, sự phân chia có thể không thống nhất giữa những người đọc: có người chia theo ý lớn, có người chia theo ý nhỏ. Ý lớn là đoạn bài có hai hoặc ba ý nhỏ được khai triển từ ý lớn, bao gồm hai hoặc ba đoạn văn ngắn, mỗi đoạn ngắn đó là một ý nhỏ, các đoạn này hợp ý với nhau thành một ý lớn; ý nhỏ là ý được khai triển từ ý lớn, về mặt nội dung chỉ triển khai theo một phương diện, một hướng cụ thể, mỗi ý nhỏ là một đoạn.\n",
    "\n",
    "Cách hiểu này khiến cho cách phân đoạn thiếu tính khách quan. Với cách hiểu này, diện mạo đoạn văn không được xác định (đoạn văn bắt đầu từ đâu, như thế nào, các câu văn trong đoạn có mối liên kết với nhau như thế nào,…) cho nên việc xây dựng đoạn văn trở nên khó khăn, phức tạp, khó rèn luyện các thao tác để trở thành kĩ năng kĩ xảo\n",
    "\"\"\""
   ]
  },
  {
   "cell_type": "markdown",
   "metadata": {},
   "source": [
    "### Các thao tác phổ biến với string"
   ]
  },
  {
   "cell_type": "code",
   "execution_count": 48,
   "metadata": {},
   "outputs": [
    {
     "name": "stdout",
     "output_type": "stream",
     "text": [
      "18\n"
     ]
    }
   ],
   "source": [
    "# Kiểm tra độ dài string\n",
    "course_name = \"Python Fundamental\"\n",
    "print(len(course_name))"
   ]
  },
  {
   "cell_type": "code",
   "execution_count": 52,
   "metadata": {},
   "outputs": [
    {
     "name": "stdout",
     "output_type": "stream",
     "text": [
      "Nhập ký tự : ahihi\n",
      "Ký tự đầu tiên :  a\n",
      "Ký tự cuối cùng :  i\n",
      "Ký tự cuối cùng :  i\n"
     ]
    }
   ],
   "source": [
    "# Truy xuất ký tự bằng cơ chế indexing và reverse indexing\n",
    "content = input(\"Nhập ký tự : \")\n",
    "print(\"Ký tự đầu tiên : \", content[0])\n",
    "print(\"Ký tự cuối cùng : \", content[-1])\n",
    "print(\"Ký tự cuối cùng : \", content[len(content)-1])"
   ]
  },
  {
   "cell_type": "markdown",
   "metadata": {},
   "source": [
    "#### Thực hành: Viết chương trình nhập vào một chuỗi bất kỳ, sau đó in ra ký tự đầu tiên và ký tự cuối cùng của chuỗi đó."
   ]
  },
  {
   "cell_type": "code",
   "execution_count": null,
   "metadata": {},
   "outputs": [],
   "source": []
  },
  {
   "cell_type": "code",
   "execution_count": null,
   "metadata": {},
   "outputs": [],
   "source": [
    "# Cắt string theo index"
   ]
  },
  {
   "cell_type": "code",
   "execution_count": null,
   "metadata": {},
   "outputs": [],
   "source": [
    "# Ghép chuỗi và lặp chuỗi"
   ]
  },
  {
   "cell_type": "markdown",
   "metadata": {},
   "source": [
    "#### Thực hành: Xử lý và in ra các thông tin tương ứng trong chuỗi"
   ]
  },
  {
   "cell_type": "code",
   "execution_count": null,
   "metadata": {},
   "outputs": [],
   "source": []
  },
  {
   "cell_type": "markdown",
   "metadata": {},
   "source": [
    "### Các hàm thông dụng khi xử lý string"
   ]
  },
  {
   "cell_type": "code",
   "execution_count": null,
   "metadata": {},
   "outputs": [],
   "source": [
    "# len"
   ]
  },
  {
   "cell_type": "code",
   "execution_count": null,
   "metadata": {},
   "outputs": [],
   "source": [
    "# count"
   ]
  },
  {
   "cell_type": "code",
   "execution_count": null,
   "metadata": {},
   "outputs": [],
   "source": [
    "# upper, lower"
   ]
  },
  {
   "cell_type": "code",
   "execution_count": null,
   "metadata": {},
   "outputs": [],
   "source": [
    "# lstrip, rstrip, strip"
   ]
  },
  {
   "cell_type": "code",
   "execution_count": null,
   "metadata": {},
   "outputs": [],
   "source": [
    "# split"
   ]
  },
  {
   "cell_type": "markdown",
   "metadata": {},
   "source": []
  }
 ],
 "metadata": {
  "kernelspec": {
   "display_name": "Python 3",
   "language": "python",
   "name": "python3"
  },
  "language_info": {
   "codemirror_mode": {
    "name": "ipython",
    "version": 3
   },
   "file_extension": ".py",
   "mimetype": "text/x-python",
   "name": "python",
   "nbconvert_exporter": "python",
   "pygments_lexer": "ipython3",
   "version": "3.7.1"
  }
 },
 "nbformat": 4,
 "nbformat_minor": 5
}
