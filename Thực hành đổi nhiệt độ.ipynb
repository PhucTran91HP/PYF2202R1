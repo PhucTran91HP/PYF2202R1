{
 "cells": [
  {
   "cell_type": "code",
   "execution_count": 1,
   "metadata": {},
   "outputs": [
    {
     "name": "stdout",
     "output_type": "stream",
     "text": [
      " Nhập độ C: 30\n",
      "Nhiệt độ F tương ứng là 30: 86.0\n"
     ]
    }
   ],
   "source": [
    "c = input(\" Nhập độ C: \")\n",
    "\n",
    "f = (9*(int(c))/5)+32\n",
    "\n",
    "print(f\"Nhiệt độ F tương ứng là {c}: {f}\")"
   ]
  }
 ],
 "metadata": {
  "kernelspec": {
   "display_name": "Python 3",
   "language": "python",
   "name": "python3"
  },
  "language_info": {
   "codemirror_mode": {
    "name": "ipython",
    "version": 3
   },
   "file_extension": ".py",
   "mimetype": "text/x-python",
   "name": "python",
   "nbconvert_exporter": "python",
   "pygments_lexer": "ipython3",
   "version": "3.7.1"
  }
 },
 "nbformat": 4,
 "nbformat_minor": 2
}
