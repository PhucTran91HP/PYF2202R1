{
 "cells": [
  {
   "cell_type": "code",
   "execution_count": 50,
   "metadata": {},
   "outputs": [],
   "source": [
    "# Thực hành : Vẽ mặt cười\n",
    "import turtle\n",
    "pen = turtle.Turtle()\n",
    "pen.pensize(5)\n",
    "pen.fillcolor(\"red\")\n",
    "pen.shape(\"square\")\n",
    "pen.penup()\n",
    "pen.goto(0, -200)\n",
    "\n",
    "facesize = 200\n",
    "eye_size = 20\n",
    "nose_size = 50\n",
    "\n",
    "pen.pendown()\n",
    "pen.fillcolor(\"red\")\n",
    "pen.begin_fill()\n",
    "pen.circle(facesize)\n",
    "pen.end_fill()\n",
    "\n",
    "pen.penup()\n",
    "\n",
    "pen.goto( -50, 100)\n",
    "pen.fillcolor(\"#FFFFFF\")\n",
    "pen.begin_fill()\n",
    "pen.pendown()\n",
    "pen.circle(eye_size)\n",
    "pen.end_fill()\n",
    "\n",
    "\n",
    "pen.penup()\n",
    "\n",
    "pen.goto(50, 100)\n",
    "pen.fillcolor(\"#FFFFFF\")\n",
    "pen.begin_fill()\n",
    "pen.pendown()\n",
    "pen.circle(eye_size)\n",
    "pen.end_fill()\n",
    "\n",
    "pen.penup()\n",
    "pen.goto(0,50)\n",
    "pen.fillcolor(\"#cd10e6\")\n",
    "pen.begin_fill()\n",
    "pen.pendown()\n",
    "pen.circle(-nose_size, steps = 3)\n",
    "pen.end_fill()\n",
    "\n",
    "pen.penup()\n",
    "pen.goto(-100, -70)\n",
    "\n",
    "pen.pendown()\n",
    "pen.right(90)\n",
    "pen.circle(100, 180)\n",
    "\n",
    "turtle.done()"
   ]
  }
 ],
 "metadata": {
  "kernelspec": {
   "display_name": "Python 3",
   "language": "python",
   "name": "python3"
  },
  "language_info": {
   "codemirror_mode": {
    "name": "ipython",
    "version": 3
   },
   "file_extension": ".py",
   "mimetype": "text/x-python",
   "name": "python",
   "nbconvert_exporter": "python",
   "pygments_lexer": "ipython3",
   "version": "3.7.1"
  }
 },
 "nbformat": 4,
 "nbformat_minor": 2
}
