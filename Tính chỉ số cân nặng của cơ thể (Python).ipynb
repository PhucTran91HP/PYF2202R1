{
 "cells": [
  {
   "cell_type": "code",
   "execution_count": 1,
   "metadata": {},
   "outputs": [
    {
     "name": "stdout",
     "output_type": "stream",
     "text": [
      "Nhập số cân nặng (kg): 62\n",
      "Nhập chiều cao (m): 1.7\n",
      "Bình thường\n"
     ]
    }
   ],
   "source": [
    "a = float(input('Nhập số cân nặng (kg): '))\n",
    "b = float(input('Nhập chiều cao (m): '))\n",
    "\n",
    "BMI = a/(b*b)\n",
    "\n",
    "if BMI < 16:\n",
    "    print('Gầy cấp độ 3')\n",
    "elif 16 <= BMI < 17:\n",
    "    print('Gầy cấp độ 2')\n",
    "elif 17 <= BMI < 18.5:\n",
    "    print('Gầy cấp độ 1')\n",
    "elif 18.5 <= BMI < 25:\n",
    "    print('Bình thường')\n",
    "elif 25 <= BMI < 30:\n",
    "    print('Thừa cân')\n",
    "elif 30 <= BMI < 35:\n",
    "    print('Béo phì cấp độ 1')\n",
    "elif 35 <= BMI < 40:\n",
    "    print('Béo phì cấp độ 2')\n",
    "elif BMI >= 40:\n",
    "    print('Béo phì cấp độ 3')\n",
    "else:\n",
    "    print('Kiểm tra lại dữ liệu bạn nhập')"
   ]
  }
 ],
 "metadata": {
  "kernelspec": {
   "display_name": "Python 3",
   "language": "python",
   "name": "python3"
  },
  "language_info": {
   "codemirror_mode": {
    "name": "ipython",
    "version": 3
   },
   "file_extension": ".py",
   "mimetype": "text/x-python",
   "name": "python",
   "nbconvert_exporter": "python",
   "pygments_lexer": "ipython3",
   "version": "3.7.1"
  }
 },
 "nbformat": 4,
 "nbformat_minor": 2
}
